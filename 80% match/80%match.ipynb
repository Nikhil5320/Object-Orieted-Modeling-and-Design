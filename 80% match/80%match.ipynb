{
 "cells": [
  {
   "cell_type": "code",
   "execution_count": 2,
   "metadata": {},
   "outputs": [],
   "source": [
    "import pandas as pd\n",
    "import re\n",
    "import math"
   ]
  },
  {
   "cell_type": "code",
   "execution_count": 3,
   "metadata": {},
   "outputs": [
    {
     "name": "stderr",
     "output_type": "stream",
     "text": [
      "C:\\Users\\Revanna\\anaconda3\\lib\\site-packages\\IPython\\core\\interactiveshell.py:3063: DtypeWarning: Columns (28) have mixed types.Specify dtype option on import or set low_memory=False.\n",
      "  interactivity=interactivity, compiler=compiler, result=result)\n"
     ]
    }
   ],
   "source": [
    "data = pd.read_csv(\"ProductDump-13-12-2021-09-51-58.csv\")"
   ]
  },
  {
   "cell_type": "code",
   "execution_count": 4,
   "metadata": {},
   "outputs": [],
   "source": [
    "data = data[\"Title\"][:40]"
   ]
  },
  {
   "cell_type": "code",
   "execution_count": 5,
   "metadata": {},
   "outputs": [
    {
     "name": "stdout",
     "output_type": "stream",
     "text": [
      "0     Real Savouries Snacks Specialist Mixture, 250g...\n",
      "1     Just Spices Fennel Seeds/ Saunf, 80g Standup P...\n",
      "2       Steelo Pet Solitaire Container 1200ml, 1Pc Pack\n",
      "3            Arcor Butter Toffees Collection, 375g Pack\n",
      "4                     Panasonic Alkaline Aaa, 6Pcs Pack\n",
      "5                              Flair Act Point Ball Pen\n",
      "6            Lakme Absolute Pore Fix Toner, 60ml Bottle\n",
      "7                         Player Mask 3 Layer, 1Pc Pack\n",
      "8     Sri Vaibhava Lakshmi Mart Jasmine Incense Stic...\n",
      "9                 Pranam Store Aralu Sandige, 200g Pack\n",
      "10          Woosh Super Wash Detergent Powder, 1Kg Pack\n",
      "11    Kwality Foods American Almonds, 100g Standup P...\n",
      "12    FR Foods Custard Powder Strawberry Flavour, 10...\n",
      "13                   Oliveware Gusto Lunch Box, 1Pc Box\n",
      "14                        Cycle Lia Prime Rose, 16g Box\n",
      "15    Tetley Naturally Sweet Green Tea, Reviving Man...\n",
      "16                       Everest Cumin Powder, 50g Pack\n",
      "17    Dabur Odopic Dishwash Powder with Lime, 4.5Kg ...\n",
      "18    Lotus Herbals Almond Youth Almond Anti-Werinkl...\n",
      "19                                Roxy R Atta, 50Kg Bag\n",
      "20                     Podaran Butter Murukku, 1Kg Pack\n",
      "21    Lotus Herbals Pure Colors Lip Color, Tangerine...\n",
      "22            Hare Krishna Florence Light Jug, 1Pc Pack\n",
      "23                 Amogha Earth Incense Sticks, 45g Box\n",
      "24                      Promise Auto Iron Box, 1Pc Pack\n",
      "25    Zed Black 3 In 1 Premium Incense Sticks, 10g Pack\n",
      "26                Grocery Kart Kabuli Channa, 250g Pack\n",
      "27    Godrej Expert Easy 5Minute Hair Colour, Burgun...\n",
      "28                                   Clock 14, 1Pc Pack\n",
      "29    Bhaskar's Sunshine Jet Exercise Note Book, 76P...\n",
      "30               Winkies Authentic Plum Cake, 450g Pack\n",
      "31    Savitri Ashirvaad Silver Sona Masuri Raw Rice,...\n",
      "32             Cello White Board Marker Black, 1Pc Pack\n",
      "33                      Surya Nylon Rope No 5, 1Pc Pack\n",
      "34             Fackelmann Poly Bag Clips 10cm, 1Pc Pack\n",
      "35                                             Babycorn\n",
      "36               Kalbavi Cashew, Masala Magic, 250g Jar\n",
      "37                        Udhaiyam Toor Dhall, 1Kg Pack\n",
      "38       Oral-B Sens Whitening Soft Twin Pack, 1Pc Pack\n",
      "39         Daily Cook Food Home Made Mustard, 100g Pack\n",
      "Name: Title, dtype: object\n"
     ]
    }
   ],
   "source": [
    "print(data)"
   ]
  },
  {
   "cell_type": "code",
   "execution_count": 8,
   "metadata": {},
   "outputs": [],
   "source": [
    "def matches(pattern):\n",
    "    pattern = pattern.upper()\n",
    "    x = pattern.split()\n",
    "    x = [i for i in x]\n",
    "    result = []\n",
    "    for i in data:\n",
    "        flag=0\n",
    "        for j in x:\n",
    "            if(re.search(j, i.upper())):\n",
    "                flag += 1\n",
    "        if(flag >= int(math.ceil(0.7*len(x)))): result.append([i,flag/len(x)])\n",
    "    return result"
   ]
  },
  {
   "cell_type": "markdown",
   "metadata": {},
   "source": [
    "# Testing with different patterns"
   ]
  },
  {
   "cell_type": "code",
   "execution_count": 13,
   "metadata": {},
   "outputs": [
    {
     "name": "stdout",
     "output_type": "stream",
     "text": [
      "Matched products (2) :\n",
      "\n",
      "Sri Vaibhava Lakshmi Mart Jasmine Incense Sticks, 200g Pack   ( 100.0 %)\n",
      "Pranam Store Aralu Sandige, 200g Pack   ( 100.0 %)\n"
     ]
    }
   ],
   "source": [
    "result = matches(\"200g\")\n",
    "print(\"Matched products (\"+str(len(result))+\") :\\n\")\n",
    "for i in result:\n",
    "    print(i[0],\"  (\",i[1]*100,\"%)\")"
   ]
  },
  {
   "cell_type": "code",
   "execution_count": 14,
   "metadata": {},
   "outputs": [
    {
     "name": "stdout",
     "output_type": "stream",
     "text": [
      "Matched products (1) :\n",
      "\n",
      "Podaran Butter Murukku, 1Kg Pack   ( 100.0 %)\n"
     ]
    }
   ],
   "source": [
    "result = matches(\"Butter Murukku\")\n",
    "print(\"Matched products (\"+str(len(result))+\") :\\n\")\n",
    "for i in result:\n",
    "    print(i[0],\"  (\",i[1]*100,\"%)\")"
   ]
  },
  {
   "cell_type": "code",
   "execution_count": 15,
   "metadata": {},
   "outputs": [
    {
     "name": "stdout",
     "output_type": "stream",
     "text": [
      "Matched products (1) :\n",
      "\n",
      "Woosh Super Wash Detergent Powder, 1Kg Pack   ( 100.0 %)\n"
     ]
    }
   ],
   "source": [
    "result = matches(\"Detergent Powder\")\n",
    "print(\"Matched products (\"+str(len(result))+\") :\\n\")\n",
    "for i in result:\n",
    "    print(i[0],\"  (\",i[1]*100,\"%)\")"
   ]
  },
  {
   "cell_type": "code",
   "execution_count": 16,
   "metadata": {},
   "outputs": [
    {
     "name": "stdout",
     "output_type": "stream",
     "text": [
      "Matched products (4) :\n",
      "\n",
      "Woosh Super Wash Detergent Powder, 1Kg Pack   ( 100.0 %)\n",
      "FR Foods Custard Powder Strawberry Flavour, 100g Box   ( 100.0 %)\n",
      "Everest Cumin Powder, 50g Pack   ( 100.0 %)\n",
      "Dabur Odopic Dishwash Powder with Lime, 4.5Kg Pack   ( 100.0 %)\n"
     ]
    }
   ],
   "source": [
    "result = matches(\"Powder\")\n",
    "print(\"Matched products (\"+str(len(result))+\") :\\n\")\n",
    "for i in result:\n",
    "    print(i[0],\"  (\",i[1]*100,\"%)\")"
   ]
  },
  {
   "cell_type": "code",
   "execution_count": 17,
   "metadata": {},
   "outputs": [
    {
     "name": "stdout",
     "output_type": "stream",
     "text": [
      "Matched products (7) :\n",
      "\n",
      "FR Foods Custard Powder Strawberry Flavour, 100g Box   ( 100.0 %)\n",
      "Oliveware Gusto Lunch Box, 1Pc Box   ( 100.0 %)\n",
      "Cycle Lia Prime Rose, 16g Box   ( 100.0 %)\n",
      "Tetley Naturally Sweet Green Tea, Reviving Mango, 25Pcs Box   ( 100.0 %)\n",
      "Lotus Herbals Almond Youth Almond Anti-Werinkle Cream, 50g Box   ( 100.0 %)\n",
      "Amogha Earth Incense Sticks, 45g Box   ( 100.0 %)\n",
      "Promise Auto Iron Box, 1Pc Pack   ( 100.0 %)\n"
     ]
    }
   ],
   "source": [
    "result = matches(\"Box\")\n",
    "print(\"Matched products (\"+str(len(result))+\") :\\n\")\n",
    "for i in result:\n",
    "    print(i[0],\"  (\",i[1]*100,\"%)\")"
   ]
  },
  {
   "cell_type": "code",
   "execution_count": null,
   "metadata": {},
   "outputs": [],
   "source": []
  }
 ],
 "metadata": {
  "kernelspec": {
   "display_name": "Python 3",
   "language": "python",
   "name": "python3"
  },
  "language_info": {
   "codemirror_mode": {
    "name": "ipython",
    "version": 3
   },
   "file_extension": ".py",
   "mimetype": "text/x-python",
   "name": "python",
   "nbconvert_exporter": "python",
   "pygments_lexer": "ipython3",
   "version": "3.7.6"
  }
 },
 "nbformat": 4,
 "nbformat_minor": 4
}
